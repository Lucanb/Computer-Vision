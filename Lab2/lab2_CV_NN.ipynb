{
 "cells": [
  {
   "cell_type": "code",
   "execution_count": 1,
   "metadata": {
    "colab": {
     "base_uri": "https://localhost:8080/"
    },
    "id": "ZlSVD6DcJ4Bx",
    "outputId": "c6925842-2d27-4d1c-d02a-e23539994816"
   },
   "outputs": [
    {
     "name": "stdout",
     "output_type": "stream",
     "text": [
      "Using device: cuda\n"
     ]
    }
   ],
   "source": [
    "import torch\n",
    "\n",
    "device = torch.device('cuda' if torch.cuda.is_available() else 'cpu')\n",
    "print(f'Using device: {device}')\n",
    "\n",
    "import random\n",
    "random.seed(42)\n",
    "\n",
    "import torch\n",
    "import torch.nn as nn\n",
    "import torch.nn.functional as F\n",
    "import torch.optim as optim\n",
    "import torchvision.datasets as dataset_loader\n",
    "import torchvision\n",
    "\n",
    "import cv2\n",
    "import numpy as np\n",
    "\n",
    "import matplotlib.pyplot as plt\n",
    "%matplotlib inline"
   ]
  },
  {
   "cell_type": "code",
   "execution_count": 2,
   "metadata": {
    "colab": {
     "base_uri": "https://localhost:8080/"
    },
    "id": "k1FLT7JHKH1Y",
    "outputId": "b0d08087-cf4e-4cb2-a5f4-38f88a27130b"
   },
   "outputs": [
    {
     "name": "stdout",
     "output_type": "stream",
     "text": [
      "Downloading https://www.cs.toronto.edu/~kriz/cifar-10-python.tar.gz to data\\cifar-10-python.tar.gz\n"
     ]
    },
    {
     "name": "stderr",
     "output_type": "stream",
     "text": [
      "100%|██████████| 170M/170M [00:37<00:00, 4.50MB/s] \n"
     ]
    },
    {
     "name": "stdout",
     "output_type": "stream",
     "text": [
      "Extracting data\\cifar-10-python.tar.gz to data\n",
      "Files already downloaded and verified\n"
     ]
    }
   ],
   "source": [
    "\n",
    "cifar_dataset = dataset_loader.CIFAR10(root='data', train=True, download=True, transform=torchvision.transforms.ToTensor())\n",
    "cifar_testset = dataset_loader.CIFAR10(root='data', train=False, download=True, transform=torchvision.transforms.ToTensor())\n"
   ]
  },
  {
   "cell_type": "code",
   "execution_count": 3,
   "metadata": {
    "id": "z7kgAtxdKI6m"
   },
   "outputs": [],
   "source": [
    "cifar_dataset = cifar_dataset.data"
   ]
  },
  {
   "cell_type": "markdown",
   "metadata": {
    "id": "ijRw0e8fKHiG"
   },
   "source": []
  },
  {
   "cell_type": "code",
   "execution_count": 4,
   "metadata": {
    "colab": {
     "base_uri": "https://localhost:8080/",
     "height": 325
    },
    "id": "9bCYGQbRKKoy",
    "outputId": "d39b9fd9-580f-4aaa-a3c7-e7cc99a9408b"
   },
   "outputs": [
    {
     "data": {
      "text/plain": [
       "(Text(0.5, 1.0, 'RGB'), Text(0.5, 1.0, 'Gray'))"
      ]
     },
     "execution_count": 4,
     "metadata": {},
     "output_type": "execute_result"
    }
   ],
   "source": [
    "f, ax = plt.subplots(1,2)\n",
    "ax[0].imshow(cifar_dataset[11])\n",
    "ax[1].imshow(cv2.cvtColor(cifar_dataset[11], cv2.COLOR_RGB2GRAY),cmap='gray')\n",
    "ax[0].set_title('RGB'), ax[1].set_title('Gray')"
   ]
  },
  {
   "cell_type": "code",
   "execution_count": 5,
   "metadata": {
    "id": "mKlIuJsyKMEh"
   },
   "outputs": [],
   "source": [
    "batch_size = 100\n",
    "op_data = np.array([cifar_dataset[_ix:_ix+batch_size] for _ix in range(0, cifar_dataset.shape[0], batch_size)])\n",
    "ip_data = np.array([cv2.cvtColor(img, cv2.COLOR_RGB2GRAY) for img in cifar_dataset])\n",
    "ip_data = np.array([ip_data[_ix:_ix+batch_size] for _ix in range(0, ip_data.shape[0], batch_size)])\n",
    "\n",
    "train_ratio, test_ratio = 0.8, 0.2\n",
    "rand_ix = np.random.permutation(ip_data.shape[0])\n",
    "train_ix, test_ix = rand_ix[:int(train_ratio*rand_ix.shape[0])], rand_ix[int(test_ratio*rand_ix.shape[0]):]\n",
    "x_train, y_train, x_test, y_test = ip_data[train_ix,:,:], op_data[train_ix,:,:], ip_data[test_ix,:,:], op_data[test_ix,:,:]"
   ]
  },
  {
   "cell_type": "code",
   "execution_count": 6,
   "metadata": {
    "colab": {
     "base_uri": "https://localhost:8080/",
     "height": 325
    },
    "id": "jkvh775oKNiR",
    "outputId": "e59de1fe-013f-4b3d-ba6b-b71c84ec6bdb"
   },
   "outputs": [
    {
     "data": {
      "text/plain": [
       "(Text(0.5, 1.0, 'x_train'), Text(0.5, 1.0, 'y_train'))"
      ]
     },
     "execution_count": 6,
     "metadata": {},
     "output_type": "execute_result"
    }
   ],
   "source": [
    "f, ax_1 = plt.subplots(1,2)\n",
    "ax_1[0].imshow(x_train[0][0], cmap='gray')\n",
    "ax_1[1].imshow(y_train[0][0])\n",
    "ax_1[0].set_title('x_train'), ax_1[1].set_title('y_train')"
   ]
  },
  {
   "cell_type": "code",
   "execution_count": 7,
   "metadata": {
    "id": "Xr83AG4HKOyO"
   },
   "outputs": [],
   "source": [
    "def transform_and_create_torch_tensors(data):\n",
    "    data = torch.from_numpy(data).float().cuda()\n",
    "    return data.contiguous().view(data.size(0),batch_size,-1,32,32)\n",
    "\n",
    "x_train, y_train, x_test, y_test = map(transform_and_create_torch_tensors, [x_train, y_train, x_test, y_test])"
   ]
  },
  {
   "cell_type": "code",
   "execution_count": 8,
   "metadata": {
    "colab": {
     "base_uri": "https://localhost:8080/"
    },
    "id": "l_oqdPK-KRFX",
    "outputId": "a95d7625-08cb-401e-9971-8e0f88c3a7ac"
   },
   "outputs": [
    {
     "name": "stdout",
     "output_type": "stream",
     "text": [
      "Using device: cuda\n",
      "mean: 122.6865005493164, std: 60.988258361816406\n"
     ]
    }
   ],
   "source": [
    "\n",
    "import torch\n",
    "\n",
    "device = torch.device('cuda' if torch.cuda.is_available() else 'cpu')\n",
    "print(f'Using device: {device}')\n",
    "\n",
    "mean = torch.mean(x_train[:,:,0,:,:])\n",
    "std = torch.std(x_train[:,:,0,:,:])\n",
    "print('mean: {}, std: {}'.format(mean, std))\n",
    "x_train[:,:,0,:,:] = (x_train[:,:,0,:,:]-mean)/std\n",
    "x_test[:,:,0,:,:] = (x_test[:,:,0,:,:]-mean)/std\n",
    "y_train = y_train/255\n",
    "y_test = y_test/255"
   ]
  },
  {
   "cell_type": "code",
   "execution_count": 9,
   "metadata": {
    "colab": {
     "base_uri": "https://localhost:8080/"
    },
    "id": "AQbXYA-GKSio",
    "outputId": "dae844b6-ebaa-4a4a-fe51-5e2b56291743"
   },
   "outputs": [
    {
     "name": "stdout",
     "output_type": "stream",
     "text": [
      "Using device: cuda\n"
     ]
    }
   ],
   "source": [
    "\n",
    "import torch\n",
    "\n",
    "device = torch.device('cuda' if torch.cuda.is_available() else 'cpu')\n",
    "print(f'Using device: {device}')\n",
    "\n",
    "class ConvNet(nn.Module):\n",
    "\n",
    "    def __init__(self, batch_size):\n",
    "        super(ConvNet, self).__init__()\n",
    "        self.conv1 = nn.Conv2d(1, 16, 3, padding=1)\n",
    "        self.conv2 = nn.Conv2d(16, 32, 3)\n",
    "        self.linear1 = nn.Linear(32*7*7, 512)\n",
    "        self.linear2 = nn.Linear(512, 3072)\n",
    "\n",
    "    def forward(self, x):\n",
    "        p1 = F.max_pool2d(self.conv1(x), (2,2))\n",
    "        p2 = F.max_pool2d(self.conv2(p1), (2,2))\n",
    "        f1 = F.relu(self.linear1(p2.view(batch_size,-1)))\n",
    "        f2 = torch.sigmoid(self.linear2(f1)).view(-1, 3, 32, 32)\n",
    "        return f2"
   ]
  },
  {
   "cell_type": "code",
   "execution_count": 10,
   "metadata": {
    "id": "6R63Gb2hKT0b"
   },
   "outputs": [],
   "source": [
    "learning_rate = 0.0001\n",
    "epochs = 100\n",
    "criterion = torch.nn.MSELoss()\n",
    "\n",
    "net = ConvNet(batch_size)\n",
    "net.cuda()\n",
    "optimizer = optim.Adam(net.parameters(), lr=learning_rate)"
   ]
  },
  {
   "cell_type": "code",
   "execution_count": 11,
   "metadata": {
    "colab": {
     "base_uri": "https://localhost:8080/"
    },
    "id": "QoWhEceEKWIc",
    "outputId": "2029f28b-b63c-485c-be6d-08bf24fc56ca"
   },
   "outputs": [
    {
     "name": "stdout",
     "output_type": "stream",
     "text": [
      "Using device: cuda\n",
      "EPOCH: 99 | Train_loss: 3.155753180384636 | Test_loss: 3.20205367915332327\n",
      "Finished Training\n"
     ]
    }
   ],
   "source": [
    "\n",
    "import torch\n",
    "\n",
    "device = torch.device('cuda' if torch.cuda.is_available() else 'cpu')\n",
    "print(f'Using device: {device}')\n",
    "\n",
    "train_loss_container, test_loss_container = [], []\n",
    "\n",
    "for e in range(epochs):\n",
    "\n",
    "    train_loss = 0.0\n",
    "    test_loss = 0.0\n",
    "\n",
    "    for batch, train_data in enumerate(x_train):\n",
    "        ip, op = train_data, y_train[batch]\n",
    "        optimizer.zero_grad()\n",
    "\n",
    "        model_op = net(ip)\n",
    "        loss = criterion(model_op, op)\n",
    "        train_loss += loss.item()\n",
    "        loss.backward()\n",
    "        optimizer.step()\n",
    "\n",
    "    with torch.no_grad():\n",
    "        for batch_test, test_data in enumerate(x_test, 0):\n",
    "\n",
    "            ip_test, op_test = test_data, y_test[batch_test]\n",
    "            model_op = net(ip_test)\n",
    "            loss_test = criterion(model_op, op_test)\n",
    "            test_loss += loss_test.item()\n",
    "\n",
    "    train_loss_container.append(train_loss)\n",
    "    test_loss_container.append(test_loss)\n",
    "    print('\\rEPOCH: {} | Train_loss: {} | Test_loss: {}'.format(e, train_loss, test_loss), end='')\n",
    "print('\\nFinished Training')"
   ]
  },
  {
   "cell_type": "code",
   "execution_count": 12,
   "metadata": {
    "colab": {
     "base_uri": "https://localhost:8080/",
     "height": 486
    },
    "id": "QPcp26YoKWrl",
    "outputId": "22158cf4-05fd-4ca6-d7da-af6f30ee22bb"
   },
   "outputs": [
    {
     "data": {
      "image/png": "[encoded data removed]",
      "text/plain": [
       "<Figure size 640x480 with 2 Axes>"
      ]
     },
     "metadata": {},
     "output_type": "display_data"
    },
    {
     "data": {
      "image/png": "[encoded data removed]",
      "text/plain": [
       "<Figure size 640x480 with 2 Axes>"
      ]
     },
     "metadata": {},
     "output_type": "display_data"
    },
    {
     "data": {
      "image/png": "[encoded data removed]",
      "text/plain": [
       "<Figure size 640x480 with 2 Axes>"
      ]
     },
     "metadata": {},
     "output_type": "display_data"
    }
   ],
   "source": [
    "f, ax = plt.subplots(2,1)\n",
    "ax[0].set_title('Training Loss')\n",
    "ax[0].plot(train_loss_container)\n",
    "ax[1].set_title('Test Loss')\n",
    "ax[1].plot(test_loss_container)\n",
    "f.tight_layout()\n",
    "plt.show()"
   ]
  },
  {
   "cell_type": "code",
   "execution_count": 13,
   "metadata": {
    "colab": {
     "base_uri": "https://localhost:8080/",
     "height": 478
    },
    "id": "AE80vZrPKXzH",
    "outputId": "cf9be4a5-6a51-4ec5-92c8-79934c10c77f"
   },
   "outputs": [],
   "source": [
    "# input\n",
    "f, ax = plt.subplots(3,3)\n",
    "f.suptitle('Input')\n",
    "for i in range(3):\n",
    "    for j in range(3):\n",
    "        tmp = mean.item()+x_test[i][j].detach().cpu().squeeze().numpy()*std.item()\n",
    "        ax[i,j].imshow(tmp.reshape(32,32).astype(np.uint8), cmap='gray')"
   ]
  },
  {
   "cell_type": "code",
   "execution_count": 14,
   "metadata": {
    "colab": {
     "base_uri": "https://localhost:8080/",
     "height": 478
    },
    "id": "aob4K57rKZD5",
    "outputId": "8f91efec-41f2-420c-dab5-93f07fced86d"
   },
   "outputs": [],
   "source": [
    "# prediction\n",
    "f, ax = plt.subplots(3,3)\n",
    "f.suptitle('Predictions')\n",
    "for i in range(3):\n",
    "    for j in range(3):\n",
    "        tmp = net(x_test[i])[j].detach().cpu().numpy().reshape(32,32,3)*255\n",
    "        ax[i,j].imshow(tmp.astype(np.uint8))"
   ]
  },
  {
   "cell_type": "code",
   "execution_count": 15,
   "metadata": {
    "colab": {
     "base_uri": "https://localhost:8080/",
     "height": 478
    },
    "id": "iehukbxfKaU4",
    "outputId": "5e6e8785-5b4b-4c91-e381-6e8e956e4032"
   },
   "outputs": [],
   "source": [
    "# ground truth\n",
    "f, ax = plt.subplots(3,3)\n",
    "f.suptitle('Ground-Truth')\n",
    "for i in range(3):\n",
    "    for j in range(3):\n",
    "        tmp = y_test[i][j].detach().cpu().numpy()*255\n",
    "        ax[i,j].imshow(tmp.reshape(32,32,3).astype(np.uint8))"
   ]
  },
  {
   "cell_type": "code",
   "execution_count": 16,
   "metadata": {
    "colab": {
     "base_uri": "https://localhost:8080/"
    },
    "id": "ZIZGcxbfKbG5",
    "outputId": "5d944842-50e4-4a40-924c-bd9273f8c6e1"
   },
   "outputs": [
    {
     "name": "stdout",
     "output_type": "stream",
     "text": [
      "Using device: cuda\n",
      "p1, i1 torch.Size([100, 16, 16, 16])\n",
      "p2, i2 torch.Size([100, 32, 7, 7])\n",
      "f1 torch.Size([100, 512])\n",
      "f2 torch.Size([100, 3, 32, 32])\n"
     ]
    }
   ],
   "source": [
    "\n",
    "import torch\n",
    "\n",
    "device = torch.device('cuda' if torch.cuda.is_available() else 'cpu')\n",
    "print(f'Using device: {device}')\n",
    "\n",
    "conv1 = nn.Conv2d(1, 16, 3, padding=1)\n",
    "conv2 = nn.Conv2d(16, 32, 3)\n",
    "l1 = nn.Linear(32*7*7, 512)\n",
    "l2 = nn.Linear(512, 3072)\n",
    "\n",
    "deconv1 = nn.ConvTranspose2d\n",
    "# l3 = nn.Linear(65536, 3*32*32)\n",
    "\n",
    "# tmp = torch.from_numpy(x_train[0]).resize_(batch_size, 3,32,32).float()\n",
    "tmp = x_train[0].cpu()\n",
    "c1 = conv1(tmp)\n",
    "p1 = F.max_pool2d(c1, (2,2))\n",
    "print('p1, i1', p1.shape)\n",
    "p2 = F.max_pool2d(conv2(p1), (2,2))\n",
    "print('p2, i2', p2.shape)\n",
    "f1 = F.relu(l1(p2.view(batch_size,-1)))\n",
    "print('f1', f1.shape)\n",
    "\n",
    "f2 = torch.sigmoid(l2(f1)).view(-1, 3, 32, 32)\n",
    "print('f2', f2.shape)"
   ]
  }
 ],
 "metadata": {
  "accelerator": "GPU",
  "colab": {
   "gpuType": "T4",
   "provenance": []
  },
  "kernelspec": {
   "display_name": "new",
   "language": "python",
   "name": "python3"
  },
  "language_info": {
   "codemirror_mode": {
    "name": "ipython",
    "version": 3
   },
   "file_extension": ".py",
   "mimetype": "text/x-python",
   "name": "python",
   "nbconvert_exporter": "python",
   "pygments_lexer": "ipython3",
   "version": "3.12.7"
  }
 },
 "nbformat": 4,
 "nbformat_minor": 4
}
