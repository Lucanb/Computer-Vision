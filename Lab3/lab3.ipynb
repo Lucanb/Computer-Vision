{
 "cells": [
  {
   "cell_type": "code",
   "execution_count": 13,
   "metadata": {},
   "outputs": [],
   "source": [
    "import cv2 as cv\n",
    "import numpy as np\n",
    "import os\n",
    "import matplotlib.pyplot as plt\n",
    "import seaborn as sns\n",
    "from sklearn.metrics import confusion_matrix"
   ]
  },
  {
   "cell_type": "markdown",
   "metadata": {},
   "source": [
    "#1 \n",
    "\n",
    "a) Detect the “skin-pixels” in a color image. Create a new binary image, the same size as the input\n",
    "color image, in which the skin pixels are white (255) and all non-skin pixels are black (0).\n",
    "Implement all the below described methods. (test images)"
   ]
  },
  {
   "cell_type": "code",
   "execution_count": 14,
   "metadata": {},
   "outputs": [],
   "source": [
    "def SkinBGR(img):\n",
    "    b = img[0]\n",
    "    g = img[1]\n",
    "    r = img[2]\n",
    "    if r > 95 and g > 40 and b > 20 and (max(r,g,b) - min(r,g,b)) > 15 and abs(r-g) > 15 and r > g and r > b:\n",
    "        return True\n",
    "    return False\n",
    "\n",
    "def SkinHSV(img):\n",
    "    h = img[0]\n",
    "    s = img[1]\n",
    "    v = img[2]\n",
    "    if h >= 0 and h <= 50 and s >=0.23*255 and s <=0.68*255 and v >= 0.35*255 and v <=1*255:\n",
    "        return True\n",
    "    return False\n",
    "\n",
    "def SkinYCrCb(img):\n",
    "    y = img[0]\n",
    "    cr = img[1]\n",
    "    cb = img[2]\n",
    "    if y > 80 and cb > 85 and cb < 135 and cr > 125 and cr < 180:\n",
    "        return True\n",
    "    return False\n",
    "\n",
    "def detect_skin(img, detectionFunction):\n",
    "    rows, cols, layers = img.shape\n",
    "    newImg = np.zeros((rows,cols))\n",
    "    for row in range(rows):\n",
    "        for col in range(cols):\n",
    "            if detectionFunction(img[row][col]):\n",
    "                newImg[row][col] = 255\n",
    "            else:\n",
    "                newImg[row][col] = 0\n",
    "    return newImg"
   ]
  },
  {
   "cell_type": "code",
   "execution_count": 15,
   "metadata": {},
   "outputs": [],
   "source": [
    "def apply_skin_detection(in_folder,out):\n",
    "    for out_folder, function in [(f\"{out}/HSV_Skin\", SkinHSV), (f\"{out}/YCrCb_Skin\", SkinYCrCb), (f\"{out}/BGR_Skin\", SkinBGR)]: \n",
    "        if not os.path.exists(out_folder):\n",
    "            os.makedirs(out_folder)\n",
    "\n",
    "        images = [f for f in os.listdir(in_folder) if f.lower().endswith('.jpg')]\n",
    "        for image in images:\n",
    "            image_path = image\n",
    "            image_name = os.path.basename(image_path)\n",
    "            new_image_path = os.path.join(in_folder, image)\n",
    "            image = cv.imread(new_image_path)\n",
    "            if image is None:\n",
    "                print(f\"ERROR : can't load image {new_image_path}.\")\n",
    "                continue\n",
    "\n",
    "            mask = detect_skin(image, function)\n",
    "            out_path = os.path.join(out_folder, f\"{image_name}\")\n",
    "            cv.imwrite(out_path, mask)\n",
    "            print(f\"Image processed {new_image_path} into {out_path}\")"
   ]
  },
  {
   "cell_type": "code",
   "execution_count": 16,
   "metadata": {},
   "outputs": [
    {
     "name": "stdout",
     "output_type": "stream",
     "text": [
      "Image processed skin\\1.jpg into skin/HSV_Skin\\1.jpg\n",
      "Image processed skin\\2.jpg into skin/HSV_Skin\\2.jpg\n",
      "Image processed skin\\3.jpg into skin/HSV_Skin\\3.jpg\n",
      "Image processed skin\\4.jpg into skin/HSV_Skin\\4.jpg\n",
      "Image processed skin\\5.jpg into skin/HSV_Skin\\5.jpg\n",
      "Image processed skin\\group.jpg into skin/HSV_Skin\\group.jpg\n",
      "Image processed skin\\group2.jpg into skin/HSV_Skin\\group2.jpg\n",
      "Image processed skin\\hands3.jpg into skin/HSV_Skin\\hands3.jpg\n",
      "Image processed skin\\manwoman.jpg into skin/HSV_Skin\\manwoman.jpg\n",
      "Image processed skin\\t26.jpg into skin/HSV_Skin\\t26.jpg\n",
      "Image processed skin\\t27.jpg into skin/HSV_Skin\\t27.jpg\n",
      "Image processed skin\\t63.jpg into skin/HSV_Skin\\t63.jpg\n",
      "Image processed skin\\1.jpg into skin/YCrCb_Skin\\1.jpg\n",
      "Image processed skin\\2.jpg into skin/YCrCb_Skin\\2.jpg\n",
      "Image processed skin\\3.jpg into skin/YCrCb_Skin\\3.jpg\n",
      "Image processed skin\\4.jpg into skin/YCrCb_Skin\\4.jpg\n",
      "Image processed skin\\5.jpg into skin/YCrCb_Skin\\5.jpg\n",
      "Image processed skin\\group.jpg into skin/YCrCb_Skin\\group.jpg\n",
      "Image processed skin\\group2.jpg into skin/YCrCb_Skin\\group2.jpg\n",
      "Image processed skin\\hands3.jpg into skin/YCrCb_Skin\\hands3.jpg\n",
      "Image processed skin\\manwoman.jpg into skin/YCrCb_Skin\\manwoman.jpg\n",
      "Image processed skin\\t26.jpg into skin/YCrCb_Skin\\t26.jpg\n",
      "Image processed skin\\t27.jpg into skin/YCrCb_Skin\\t27.jpg\n",
      "Image processed skin\\t63.jpg into skin/YCrCb_Skin\\t63.jpg\n"
     ]
    },
    {
     "name": "stderr",
     "output_type": "stream",
     "text": [
      "C:\\Users\\lucas\\AppData\\Local\\Temp\\ipykernel_2052\\598538485.py:5: RuntimeWarning: overflow encountered in scalar subtract\n",
      "  if r > 95 and g > 40 and b > 20 and (max(r,g,b) - min(r,g,b)) > 15 and abs(r-g) > 15 and r > g and r > b:\n"
     ]
    },
    {
     "name": "stdout",
     "output_type": "stream",
     "text": [
      "Image processed skin\\1.jpg into skin/BGR_Skin\\1.jpg\n",
      "Image processed skin\\2.jpg into skin/BGR_Skin\\2.jpg\n",
      "Image processed skin\\3.jpg into skin/BGR_Skin\\3.jpg\n",
      "Image processed skin\\4.jpg into skin/BGR_Skin\\4.jpg\n",
      "Image processed skin\\5.jpg into skin/BGR_Skin\\5.jpg\n",
      "Image processed skin\\group.jpg into skin/BGR_Skin\\group.jpg\n",
      "Image processed skin\\group2.jpg into skin/BGR_Skin\\group2.jpg\n",
      "Image processed skin\\hands3.jpg into skin/BGR_Skin\\hands3.jpg\n",
      "Image processed skin\\manwoman.jpg into skin/BGR_Skin\\manwoman.jpg\n",
      "Image processed skin\\t26.jpg into skin/BGR_Skin\\t26.jpg\n",
      "Image processed skin\\t27.jpg into skin/BGR_Skin\\t27.jpg\n",
      "Image processed skin\\t63.jpg into skin/BGR_Skin\\t63.jpg\n"
     ]
    }
   ],
   "source": [
    "if __name__ == '__main__':\n",
    "    input_folder = 'skin'\n",
    "\n",
    "    apply_skin_detection(input_folder,input_folder)"
   ]
  },
  {
   "cell_type": "markdown",
   "metadata": {},
   "source": [
    "b)\n",
    "Evaluate the below described methods by using the Pratheepan dataset. For the images in this\n",
    "dataset the “ground truth” information is provided. Compute and display the confusion matrix\n",
    "and the accuracy. The confusion matrix has the following form:\n"
   ]
  },
  {
   "cell_type": "code",
   "execution_count": 50,
   "metadata": {},
   "outputs": [],
   "source": [
    "TRUE_POSITIVE = 0\n",
    "FALSE_NEGATAIVE = 1\n",
    "FALSE_POSITIVE = 2\n",
    "TRUE_NEGATIVE = 3\n",
    "\n",
    "def addConfusion(groundImg, resultImg, confusion):\n",
    "    rows, cols = resultImg.shape\n",
    "    for row in range(rows):\n",
    "        for col in range(cols):\n",
    "            if groundImg[row][col] == 255 and resultImg[row][col] == 255:\n",
    "                confusion[TRUE_POSITIVE] += 1\n",
    "            if groundImg[row][col] == 255 and resultImg[row][col] == 0:\n",
    "                confusion[FALSE_NEGATAIVE] += 1\n",
    "            if groundImg[row][col] == 0 and resultImg[row][col] == 255:\n",
    "                confusion[FALSE_POSITIVE] += 1\n",
    "            else:\n",
    "                confusion[TRUE_NEGATIVE] += 1\n",
    "    return confusion\n",
    "\n",
    "def displayConfusion(confusion):\n",
    "    tp = confusion[TRUE_POSITIVE]\n",
    "    fp = confusion[FALSE_POSITIVE]\n",
    "    fn = confusion[FALSE_NEGATAIVE]\n",
    "    tn = confusion[TRUE_NEGATIVE]\n",
    "\n",
    "    total = tp + fp + fn + tn\n",
    "    if total != 0:\n",
    "        acc = (tp + tn) / total\n",
    "    else:\n",
    "        acc = 0\n",
    "\n",
    "    print(\"TRUE POSITIVES:\", tp)\n",
    "    print(\"FALSE POSITIVES:\", fp)\n",
    "    print(\"FALSE NEGATIVES:\", fn)\n",
    "    print(\"TRUE NEGATIVES:\", tn)\n",
    "    print(\"ACCURACY:\", acc)\n",
    "    print()\n",
    "    \n",
    "    return acc  "
   ]
  },
  {
   "cell_type": "code",
   "execution_count": 56,
   "metadata": {},
   "outputs": [],
   "source": [
    "confusion_matrices = {\n",
    "        \"HSV_Skin\": [0, 0, 0, 0],\n",
    "        \"YCrCb_Skin\": [0, 0, 0, 0],\n",
    "        \"BGR_Skin\": [0, 0, 0, 0]\n",
    "    }\n",
    "\n",
    "def process_images(ground_truth_folder, in_folder, function_pairs):\n",
    "\n",
    "    ground_truth_images = [f for f in os.listdir(ground_truth_folder) if f.lower().endswith('.png')]\n",
    "    # print(ground_truth_images)\n",
    "    for image_name in ground_truth_images:\n",
    "        ground_image_path = os.path.join(ground_truth_folder, image_name)\n",
    "        ground_img = cv.imread(ground_image_path, cv.IMREAD_GRAYSCALE)\n",
    "\n",
    "        if ground_img is not None:\n",
    "            for out_folder, function in function_pairs:\n",
    "                # print(f\"IMAGE NAME : {image_name}\")\n",
    "                name, ext = os.path.splitext(image_name)\n",
    "\n",
    "                new_image_name = name + \".jpg\"\n",
    "                result_img_path = os.path.join(in_folder, out_folder, f\"{new_image_name}\")\n",
    "                result_img = cv.imread(result_img_path, cv.IMREAD_GRAYSCALE)\n",
    "\n",
    "                if result_img is not None:\n",
    "                    confusion_matrices[out_folder] = addConfusion(ground_img, result_img, confusion_matrices[out_folder])\n",
    "        #         else:\n",
    "        #             print('NASOL nu am imag asta')\n",
    "        # else:\n",
    "        #     print(\"NASOl - Nu e ground Truth\")\n",
    "\n"
   ]
  },
  {
   "cell_type": "code",
   "execution_count": 57,
   "metadata": {},
   "outputs": [],
   "source": [
    "def plot_confusion_matrix(confusion, accuracy, title='Confusion Matrix'):\n",
    "    labels = ['True Positive', 'False Negative', 'False Positive', 'True Negative']\n",
    "    cm = np.array(confusion).reshape(2, 2)\n",
    "    fig, ax = plt.subplots(figsize=(6, 5))\n",
    "    cax = ax.matshow(cm, cmap='Blues')\n",
    "\n",
    "    fig.colorbar(cax)\n",
    "\n",
    "    ax.set_xticklabels(['', 'Negative', 'Positive'])\n",
    "    ax.set_yticklabels(['', 'Negative', 'Positive'])\n",
    "\n",
    "    for (i, j), val in np.ndenumerate(cm):\n",
    "        ax.text(j, i, str(val), ha='center', va='center', color='white', fontsize=12)\n",
    "\n",
    "    ax.set_title(f'{title} (Accuracy: {accuracy*100:.2f}%)')\n",
    "\n",
    "    plt.xlabel('Predicted')\n",
    "    plt.ylabel('Ground Truth')\n",
    "    plt.show()\n"
   ]
  },
  {
   "cell_type": "code",
   "execution_count": 58,
   "metadata": {},
   "outputs": [
    {
     "name": "stdout",
     "output_type": "stream",
     "text": [
      "Results for HSV_Skin:\n",
      "TRUE POSITIVES: 63895\n",
      "FALSE POSITIVES: 65834\n",
      "FALSE NEGATIVES: 1360487\n",
      "TRUE NEGATIVES: 5770993\n",
      "ACCURACY: 0.8035697636578151\n",
      "\n"
     ]
    },
    {
     "name": "stderr",
     "output_type": "stream",
     "text": [
      "C:\\Users\\lucas\\AppData\\Local\\Temp\\ipykernel_2052\\3215135338.py:9: UserWarning: set_ticklabels() should only be used with a fixed number of ticks, i.e. after set_ticks() or using a FixedLocator.\n",
      "  ax.set_xticklabels(['', 'Negative', 'Positive'])\n",
      "C:\\Users\\lucas\\AppData\\Local\\Temp\\ipykernel_2052\\3215135338.py:10: UserWarning: set_ticklabels() should only be used with a fixed number of ticks, i.e. after set_ticks() or using a FixedLocator.\n",
      "  ax.set_yticklabels(['', 'Negative', 'Positive'])\n"
     ]
    },
    {
     "data": {
      "image/png": "[encoded data removed]",
      "text/plain": [
       "<Figure size 600x500 with 2 Axes>"
      ]
     },
     "metadata": {},
     "output_type": "display_data"
    },
    {
     "name": "stdout",
     "output_type": "stream",
     "text": [
      "Results for YCrCb_Skin:\n",
      "TRUE POSITIVES: 56\n",
      "FALSE POSITIVES: 42676\n",
      "FALSE NEGATIVES: 1539711\n",
      "TRUE NEGATIVES: 5794151\n",
      "ACCURACY: 0.7854854150845227\n",
      "\n"
     ]
    },
    {
     "name": "stderr",
     "output_type": "stream",
     "text": [
      "C:\\Users\\lucas\\AppData\\Local\\Temp\\ipykernel_2052\\3215135338.py:9: UserWarning: set_ticklabels() should only be used with a fixed number of ticks, i.e. after set_ticks() or using a FixedLocator.\n",
      "  ax.set_xticklabels(['', 'Negative', 'Positive'])\n",
      "C:\\Users\\lucas\\AppData\\Local\\Temp\\ipykernel_2052\\3215135338.py:10: UserWarning: set_ticklabels() should only be used with a fixed number of ticks, i.e. after set_ticks() or using a FixedLocator.\n",
      "  ax.set_yticklabels(['', 'Negative', 'Positive'])\n"
     ]
    },
    {
     "data": {
      "image/png": "[encoded data removed]",
      "text/plain": [
       "<Figure size 600x500 with 2 Axes>"
      ]
     },
     "metadata": {},
     "output_type": "display_data"
    },
    {
     "name": "stdout",
     "output_type": "stream",
     "text": [
      "Results for BGR_Skin:\n",
      "TRUE POSITIVES: 1310434\n",
      "FALSE POSITIVES: 1023835\n",
      "FALSE NEGATIVES: 120062\n",
      "TRUE NEGATIVES: 4812992\n",
      "ACCURACY: 0.8425971984457\n",
      "\n"
     ]
    },
    {
     "name": "stderr",
     "output_type": "stream",
     "text": [
      "C:\\Users\\lucas\\AppData\\Local\\Temp\\ipykernel_2052\\3215135338.py:9: UserWarning: set_ticklabels() should only be used with a fixed number of ticks, i.e. after set_ticks() or using a FixedLocator.\n",
      "  ax.set_xticklabels(['', 'Negative', 'Positive'])\n",
      "C:\\Users\\lucas\\AppData\\Local\\Temp\\ipykernel_2052\\3215135338.py:10: UserWarning: set_ticklabels() should only be used with a fixed number of ticks, i.e. after set_ticks() or using a FixedLocator.\n",
      "  ax.set_yticklabels(['', 'Negative', 'Positive'])\n"
     ]
    },
    {
     "data": {
      "image/png": "[encoded data removed]",
      "text/plain": [
       "<Figure size 600x500 with 2 Axes>"
      ]
     },
     "metadata": {},
     "output_type": "display_data"
    }
   ],
   "source": [
    "if __name__ == \"__main__\":\n",
    "    \n",
    "    # input_folder = r\"Pratheepan_Dataset\\FacePhoto\"\n",
    "    # apply_skin_detection(input_folder, input_folder)\n",
    "\n",
    "    # input_folder = r\"Pratheepan_Dataset\\FamilyPhoto\"\n",
    "    # apply_skin_detection(input_folder, input_folder)\n",
    "    \n",
    "    function_pairs = [\n",
    "        (\"HSV_Skin\", SkinHSV),\n",
    "        (\"YCrCb_Skin\", SkinYCrCb),\n",
    "        (\"BGR_Skin\", SkinBGR)\n",
    "    ]\n",
    "\n",
    "    process_images(r\"Ground_Truth/GroundT_FacePhoto\", r\"Pratheepan_Dataset\\FacePhoto\", function_pairs)\n",
    "    process_images(r\"Ground_Truth/GroundT_FacePhoto\", r\"Pratheepan_Dataset\\FamilyPhoto\", function_pairs)\n",
    "\n",
    "\n",
    "    for folder, confusion in confusion_matrices.items():\n",
    "        print(f\"Results for {folder}:\")\n",
    "        accuracy = displayConfusion(confusion)\n",
    "        plot_confusion_matrix(confusion, accuracy, folder)\n",
    "                              "
   ]
  },
  {
   "cell_type": "markdown",
   "metadata": {},
   "source": [
    "    c)Use skin pixel classification to detect the face in a portrait image (find a minimal square that\n",
    "    frames the human face). Do not use an already implemented face detection function. "
   ]
  },
  {
   "cell_type": "code",
   "execution_count": 59,
   "metadata": {},
   "outputs": [],
   "source": [
    "import copy\n",
    "\n",
    "def isSkinBGR(image):\n",
    "    b = image[0]\n",
    "    g = image[1]\n",
    "    r = image[2]\n",
    "    if r > 95 and g > 40 and b > 20 and (max(r,g,b) - min(r,g,b)) > 15 and abs(r-g) > 15 and r > g and r > b:\n",
    "        return True\n",
    "    return False\n",
    "\n",
    "def isSkinBGRLateralLight(image):\n",
    "    b = image[0]\n",
    "    g = image[1]\n",
    "    r = image[2]\n",
    "    if r > 220 and g > 210 and b > 170 and abs(r - g) <= 15 and r > b and g > b:\n",
    "        return True\n",
    "    return False\n",
    "\n",
    "def BGR2YCrCb(image):\n",
    "    b = image[0]\n",
    "    g = image[1]\n",
    "    r = image[2]\n",
    "    y = 0.299*r + 0.587*g + 0.114*b\n",
    "    cb = - 0.1687*r - 0.3313*g + 0.5*b + 128\n",
    "    cr = 0.5 * r -0.4187 * g - 0.0813 * b + 128\n",
    "    return [y, cr, cb]\n",
    "\n",
    "def isSkinCrCb(image):\n",
    "    y = image[0]\n",
    "    cr = image[1]\n",
    "    cb = image[2]\n",
    "    if cr <= (1.5862 * cb + 20) and cr >= (0.3448 * cb + 76.2069) and cr >= (-4.5652 * cb + 234.5652) and cr <= (-1.15 * cb + 301.75) and cr <= (-2.2857 * cb + 432.85):\n",
    "        return True\n",
    "    return False\n",
    "\n",
    "def isSkinH(image):\n",
    "    h = image[0]\n",
    "    s = image[1]\n",
    "    v = image[2]\n",
    "    if h < 25 or h > 230:\n",
    "        return True\n",
    "    return False\n",
    "\n",
    "def isSkinBGRHCrCb(image):\n",
    "    bgrPixel = image\n",
    "    auxPixelImg = np.uint8([[image]])\n",
    "    hsvPixel = cv.cvtColor(auxPixelImg, cv.COLOR_BGR2HSV)[0][0]\n",
    "    ycrcbPixel = BGR2YCrCb(image)\n",
    "\n",
    "    if (isSkinBGR(bgrPixel) or isSkinBGRLateralLight(bgrPixel)) and isSkinCrCb(ycrcbPixel) and isSkinH(hsvPixel):\n",
    "        return True\n",
    "    return False\n",
    "\n",
    "def process_images(inputImg):\n",
    "    img = copy.deepcopy(inputImg)\n",
    "    outputImg = copy.deepcopy(img)\n",
    "    rows, cols, layers = img.shape\n",
    "    for i in range(rows):\n",
    "        for j in range(cols):\n",
    "            if isSkinBGRHCrCb(img[i][j]) == False:\n",
    "                img[i][j] = [0, 0, 0]\n",
    "    kernelDilate = np.ones((rows//200,cols//200),np.uint8)\n",
    "    kernelOpen = np.ones((rows//200,cols//200),np.uint8)\n",
    "\n",
    "    img = cv.dilate(img,kernelDilate,iterations = 1)\n",
    "    img = cv.GaussianBlur(img,(5,5),0)\n",
    "    img = cv.morphologyEx(img, cv.MORPH_OPEN, kernelOpen)\n",
    "\n",
    "\n",
    "    gray = cv.cvtColor(img, cv.COLOR_BGR2GRAY)\n",
    "    _, thresholded = cv.threshold(gray, 50, 240, cv.THRESH_BINARY)\n",
    "\n",
    "    contours, _ = cv.findContours(thresholded, cv.RETR_EXTERNAL, cv.CHAIN_APPROX_SIMPLE)\n",
    "\n",
    "    for contour in contours:\n",
    "        if len(contour) >= 5:\n",
    "            x, y, w, h = cv.boundingRect(contour)\n",
    "            ellipse = cv.fitEllipse(contour)\n",
    "            (center, axes, angle) = ellipse\n",
    "            major_axis_length = max(axes)\n",
    "            minor_axis_length = min(axes)\n",
    "            axis_ratio = minor_axis_length / major_axis_length\n",
    "            if w / h <1 and w / h >0.4 and axis_ratio < 0.9 and axis_ratio > 0.3 and h > rows // 64:\n",
    "                cv.rectangle(outputImg, (x, y), (x + w, y + h), (0, 255, 0), 2)\n",
    "\n",
    "    return outputImg\n"
   ]
  },
  {
   "cell_type": "code",
   "execution_count": 65,
   "metadata": {},
   "outputs": [
    {
     "name": "stderr",
     "output_type": "stream",
     "text": [
      "C:\\Users\\lucas\\AppData\\Local\\Temp\\ipykernel_2052\\4240238176.py:15: RuntimeWarning: overflow encountered in scalar subtract\n",
      "  if r > 220 and g > 210 and b > 170 and abs(r - g) <= 15 and r > b and g > b:\n",
      "C:\\Users\\lucas\\AppData\\Local\\Temp\\ipykernel_2052\\4240238176.py:7: RuntimeWarning: overflow encountered in scalar subtract\n",
      "  if r > 95 and g > 40 and b > 20 and (max(r,g,b) - min(r,g,b)) > 15 and abs(r-g) > 15 and r > g and r > b:\n"
     ]
    },
    {
     "name": "stdout",
     "output_type": "stream",
     "text": [
      "Nu s-a putut citi fișierul: skin\\BGR_Skin\n",
      "Nu s-a putut citi fișierul: skin\\HSV_Skin\n",
      "Nu s-a putut citi fișierul: skin\\YCrCb_Skin\n",
      "Nu s-a putut citi fișierul: Pratheepan_Dataset\\FacePhoto\\BGR_Skin\n",
      "Nu s-a putut citi fișierul: Pratheepan_Dataset\\FacePhoto\\HSV_Skin\n",
      "Nu s-a putut citi fișierul: Pratheepan_Dataset\\FacePhoto\\YCrCb_Skin\n",
      "Nu s-a putut citi fișierul: Pratheepan_Dataset\\FamilyPhoto\\BGR_Skin\n",
      "Nu s-a putut citi fișierul: Pratheepan_Dataset\\FamilyPhoto\\HSV_Skin\n",
      "Nu s-a putut citi fișierul: Pratheepan_Dataset\\FamilyPhoto\\YCrCb_Skin\n"
     ]
    }
   ],
   "source": [
    "from pathlib import Path\n",
    "\n",
    "if __name__==\"__main__\": #mai e asta de rezolvat\n",
    "\n",
    "    skinPath = Path(\"skin\")\n",
    "    facePath = Path(\"Pratheepan_Dataset\") / \"FacePhoto\"\n",
    "    familyPath = Path(\"Pratheepan_Dataset\") / \"FamilyPhoto\"\n",
    "    detectedFacesPath = Path(\"Detected_Faces\")\n",
    "\n",
    "    detectedFacesPath.mkdir(parents=True, exist_ok=True)\n",
    "\n",
    "    skinFiles = list(skinPath.iterdir())\n",
    "    faceFiles = list(facePath.iterdir())\n",
    "    familyFiles = list(familyPath.iterdir())\n",
    "\n",
    "    filePaths = skinFiles + faceFiles + familyFiles\n",
    "\n",
    "    for filePath in filePaths:\n",
    "        img = cv.imread(str(filePath))\n",
    "\n",
    "        fileName = filePath.name\n",
    "\n",
    "        if img is not None:\n",
    "            outputImg = process_images(img)\n",
    "            outputPath = detectedFacesPath / fileName\n",
    "            cv.imwrite(str(outputPath), outputImg)\n",
    "        # else:\n",
    "        #     print(f\"Nu s-a putut citi fișierul: {filePath}\")\n"
   ]
  }
 ],
 "metadata": {
  "kernelspec": {
   "display_name": "new",
   "language": "python",
   "name": "python3"
  },
  "language_info": {
   "codemirror_mode": {
    "name": "ipython",
    "version": 3
   },
   "file_extension": ".py",
   "mimetype": "text/x-python",
   "name": "python",
   "nbconvert_exporter": "python",
   "pygments_lexer": "ipython3",
   "version": "3.12.7"
  }
 },
 "nbformat": 4,
 "nbformat_minor": 4
}
