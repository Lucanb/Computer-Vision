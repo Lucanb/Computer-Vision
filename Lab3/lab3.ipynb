{
 "cells": [
  {
   "cell_type": "code",
   "execution_count": 1,
   "metadata": {},
   "outputs": [],
   "source": [
    "import cv2 as cv\n",
    "import numpy as np\n",
    "import os\n",
    "import matplotlib.pyplot as plt\n",
    "import seaborn as sns\n",
    "from sklearn.metrics import confusion_matrix"
   ]
  },
  {
   "cell_type": "markdown",
   "metadata": {},
   "source": [
    "#1 \n",
    "\n",
    "a) Detect the “skin-pixels” in a color image. Create a new binary image, the same size as the input\n",
    "color image, in which the skin pixels are white (255) and all non-skin pixels are black (0).\n",
    "Implement all the below described methods. (test images)"
   ]
  },
  {
   "cell_type": "code",
   "execution_count": 2,
   "metadata": {},
   "outputs": [],
   "source": [
    "def detect_skin(image):\n",
    "    hsv_image = cv.cvtColor(image,cv.COLOR_BGR2HSV)\n",
    "\n",
    "    low = np.array([0,20,70],dtype=np.uint8)\n",
    "    upper = np.array([20,255,255],dtype=np.uint8)\n",
    "\n",
    "    mask = cv.inRange(hsv_image,low,upper)\n",
    "\n",
    "    kernel = np.ones((5,5),np.uint8)\n",
    "    mask = cv.dilate(mask,kernel,iterations=1)\n",
    "    return mask"
   ]
  },
  {
   "cell_type": "code",
   "execution_count": 3,
   "metadata": {},
   "outputs": [],
   "source": [
    "def apply_skin_detection(in_folder,out_folder):\n",
    "        if not os.path.exists(out_folder):\n",
    "                os.makedirs(out_folder)\n",
    "        \n",
    "        images = [f for f in os.listdir(in_folder) if f.lower().endswith('.jpg')]\n",
    "        for image in images:\n",
    "                image_path = image\n",
    "                new_image_path = os.path.join(in_folder,image)\n",
    "                image = cv.imread(new_image_path)\n",
    "                if image is None:\n",
    "                    print(f\"ERROR :  can't loade image {new_image_path}.\")\n",
    "                    continue\n",
    "        \n",
    "                mask = detect_skin(image)\n",
    "                out_path = os.path.join(out_folder,f\"skin_{image_path}\")\n",
    "                cv.imwrite(out_path,mask)\n",
    "                print(f\"Image processed {new_image_path} into {out_path}\")"
   ]
  },
  {
   "cell_type": "code",
   "execution_count": 4,
   "metadata": {},
   "outputs": [
    {
     "ename": "FileNotFoundError",
     "evalue": "[Errno 2] No such file or directory: 'skin'",
     "output_type": "error",
     "traceback": [
      "\u001b[0;31m---------------------------------------------------------------------------\u001b[0m",
      "\u001b[0;31mFileNotFoundError\u001b[0m                         Traceback (most recent call last)",
      "Cell \u001b[0;32mIn[4], line 5\u001b[0m\n\u001b[1;32m      2\u001b[0m input_folder \u001b[38;5;241m=\u001b[39m \u001b[38;5;124m'\u001b[39m\u001b[38;5;124mskin\u001b[39m\u001b[38;5;124m'\u001b[39m\n\u001b[1;32m      3\u001b[0m output_folder \u001b[38;5;241m=\u001b[39m \u001b[38;5;124m'\u001b[39m\u001b[38;5;124mskin_out\u001b[39m\u001b[38;5;124m'\u001b[39m\n\u001b[0;32m----> 5\u001b[0m \u001b[43mapply_skin_detection\u001b[49m\u001b[43m(\u001b[49m\u001b[43minput_folder\u001b[49m\u001b[43m,\u001b[49m\u001b[43m \u001b[49m\u001b[43moutput_folder\u001b[49m\u001b[43m)\u001b[49m\n",
      "Cell \u001b[0;32mIn[3], line 5\u001b[0m, in \u001b[0;36mapply_skin_detection\u001b[0;34m(in_folder, out_folder)\u001b[0m\n\u001b[1;32m      2\u001b[0m \u001b[38;5;28;01mif\u001b[39;00m \u001b[38;5;129;01mnot\u001b[39;00m os\u001b[38;5;241m.\u001b[39mpath\u001b[38;5;241m.\u001b[39mexists(out_folder):\n\u001b[1;32m      3\u001b[0m         os\u001b[38;5;241m.\u001b[39mmakedirs(out_folder)\n\u001b[0;32m----> 5\u001b[0m images \u001b[38;5;241m=\u001b[39m [f \u001b[38;5;28;01mfor\u001b[39;00m f \u001b[38;5;129;01min\u001b[39;00m \u001b[43mos\u001b[49m\u001b[38;5;241;43m.\u001b[39;49m\u001b[43mlistdir\u001b[49m\u001b[43m(\u001b[49m\u001b[43min_folder\u001b[49m\u001b[43m)\u001b[49m \u001b[38;5;28;01mif\u001b[39;00m f\u001b[38;5;241m.\u001b[39mlower()\u001b[38;5;241m.\u001b[39mendswith(\u001b[38;5;124m'\u001b[39m\u001b[38;5;124m.jpg\u001b[39m\u001b[38;5;124m'\u001b[39m)]\n\u001b[1;32m      6\u001b[0m \u001b[38;5;28;01mfor\u001b[39;00m image \u001b[38;5;129;01min\u001b[39;00m images:\n\u001b[1;32m      7\u001b[0m         image_path \u001b[38;5;241m=\u001b[39m image\n",
      "\u001b[0;31mFileNotFoundError\u001b[0m: [Errno 2] No such file or directory: 'skin'"
     ]
    }
   ],
   "source": [
    "if __name__ == '__main__':\n",
    "    input_folder = 'skin'\n",
    "    output_folder = 'skin_out'\n",
    "\n",
    "    apply_skin_detection(input_folder, output_folder)"
   ]
  },
  {
   "cell_type": "markdown",
   "metadata": {},
   "source": [
    "b)\n",
    "Evaluate the below described methods by using the Pratheepan dataset. For the images in this\n",
    "dataset the “ground truth” information is provided. Compute and display the confusion matrix\n",
    "and the accuracy. The confusion matrix has the following form:\n"
   ]
  },
  {
   "cell_type": "code",
   "execution_count": null,
   "metadata": {},
   "outputs": [],
   "source": [
    "def loadImages(image_dir, mask_dir):\n",
    "    image_paths = sorted(os.listdir(image_dir))\n",
    "    mask_paths = sorted(os.listdir(mask_dir))\n",
    "\n",
    "    images = []\n",
    "    masks = []\n",
    "\n",
    "    for image_name, mask_name in zip(image_paths, mask_paths):\n",
    "        image = cv.imread(os.path.join(image_dir, image_name))\n",
    "        mask = cv.imread(os.path.join(mask_dir, mask_name))\n",
    "\n",
    "        if image is not None and mask is not None:\n",
    "            if image.shape[:2] != mask.shape[:2]:\n",
    "                print(f\"Warning: Dimensiunile imaginii {image_name} și măștii {mask_name} nu coincid.\")\n",
    "                mask = cv.resize(mask, (image.shape[1], image.shape[0]), interpolation=cv.INTER_NEAREST)\n",
    "\n",
    "            if mask.shape[-1] == 3:\n",
    "                mask = cv.cvtColor(mask, cv.COLOR_BGR2GRAY)\n",
    "\n",
    "            images.append(image)\n",
    "            masks.append(mask)\n",
    "        else:\n",
    "            print(f\"Warning: Imagine sau mască lipsă pentru {image_name} sau {mask_name}\")\n",
    "\n",
    "    return images, masks"
   ]
  },
  {
   "cell_type": "code",
   "execution_count": null,
   "metadata": {},
   "outputs": [],
   "source": [
    "def apply_skin_detection(images):\n",
    "    predictions = []\n",
    "    kernel = np.ones((5, 5), np.uint8)\n",
    "\n",
    "    for image in images:\n",
    "\n",
    "        mask = detect_skin(image)\n",
    "\n",
    "        mask_dilated = cv.dilate(mask, kernel, iterations=1)\n",
    "\n",
    "        mask_resized = cv.resize(mask_dilated, (image.shape[1], image.shape[0]), interpolation=cv.INTER_NEAREST)\n",
    "\n",
    "        predictions.append(mask_resized)\n",
    "\n",
    "    return predictions\n",
    "\n",
    "def evaluate_confusion(predictions, labels):\n",
    "    for i, (pred, label) in enumerate(zip(predictions, labels)):\n",
    "        if pred.shape != label.shape:\n",
    "            raise ValueError(f\"Shape mismatch at index {i}: prediction shape={pred.shape}, label shape={label.shape}\")\n",
    "\n",
    "    y_pred = np.concatenate([prediction.flatten() for prediction in predictions])\n",
    "    y_label = np.concatenate([label.flatten() for label in labels])\n",
    "    \n",
    "    if len(y_pred) != len(y_label):\n",
    "        raise ValueError(f\"Inconsistent number of samples: y_pred={len(y_pred)}, y_label={len(y_label)}\")\n",
    "\n",
    "    matrix = confusion_matrix(y_label, y_pred)\n",
    "    TP = matrix[1, 1]\n",
    "    TN = matrix[0, 0]\n",
    "    FP = matrix[0, 1]\n",
    "    FN = matrix[1, 0]\n",
    "\n",
    "    accuracy = (TP + TN) / (TP + TN + FP + FN)\n",
    "    return matrix, accuracy"
   ]
  },
  {
   "cell_type": "code",
   "execution_count": null,
   "metadata": {},
   "outputs": [],
   "source": [
    "def plot_confusion_matrix(matrix):\n",
    "    \"\"\"\n",
    "    Function to plot the confusion matrix using Seaborn heatmap.\n",
    "    \"\"\"\n",
    "    plt.figure(figsize=(8, 6))\n",
    "    sns.heatmap(matrix, annot=True, fmt='d', cmap='Blues', cbar=False)\n",
    "    plt.xlabel('Predicted')\n",
    "    plt.ylabel('Actual')\n",
    "    plt.title('Confusion Matrix')\n",
    "    plt.show()\n"
   ]
  },
  {
   "cell_type": "code",
   "execution_count": null,
   "metadata": {},
   "outputs": [],
   "source": [
    "if __name__ == \"__main__\":\n",
    "    \n",
    "    face_photo_dir = \"Pratheepan_Dataset/FacePhoto/\"\n",
    "    family_photo_dir = \"Pratheepan_Dataset/FamilyPhoto/\"\n",
    "    ground_truth_face_dir = \"Ground_Truth/GroundT_FacePhoto/\"\n",
    "    ground_truth_family_dir = \"Ground_Truth/GroundT_FamilyPhoto/\"\n",
    "    face_images, face_masks = loadImages(face_photo_dir, ground_truth_face_dir)\n",
    "    family_images, family_masks = loadImages(family_photo_dir, ground_truth_family_dir)\n",
    "\n",
    "    face_predictions = apply_skin_detection(face_images)\n",
    "    family_predictions = apply_skin_detection(family_images) \n",
    "\n",
    "    face_confusion_matrix, face_accuracy = evaluate_confusion(face_predictions, face_masks)\n",
    "    print(\"Face Photos Confusion Matrix:\")\n",
    "    print(face_confusion_matrix)\n",
    "    print(\"Face Photos Accuracy:\", face_accuracy)\n",
    "\n",
    "    family_confusion_matrix, family_accuracy = evaluate_confusion(family_predictions, family_masks)\n",
    "    print(\"Family Photos Confusion Matrix:\")\n",
    "    print(family_confusion_matrix)\n",
    "    print(\"Family Photos Accuracy:\", family_accuracy)"
   ]
  },
  {
   "cell_type": "code",
   "execution_count": null,
   "metadata": {},
   "outputs": [],
   "source": [
    "plot_confusion_matrix(face_confusion_matrix)\n"
   ]
  },
  {
   "cell_type": "code",
   "execution_count": null,
   "metadata": {},
   "outputs": [],
   "source": [
    "plot_confusion_matrix(family_confusion_matrix)"
   ]
  },
  {
   "cell_type": "markdown",
   "metadata": {},
   "source": [
    "    c)Use skin pixel classification to detect the face in a portrait image (find a minimal square that\n",
    "    frames the human face). Do not use an already implemented face detection function. "
   ]
  },
  {
   "cell_type": "code",
   "execution_count": null,
   "metadata": {},
   "outputs": [],
   "source": [
    "def detectSkinRGBspace(image):\n",
    "    mask = (image[:, :, 2] > 95) & (image[:, :, 1] > 40) & (image[:, :, 0] > 20) & \\\n",
    "           ((np.max(image, axis=2) - np.min(image, axis=2)) > 15) & \\\n",
    "           (np.abs(image[:, :, 2] - image[:, :, 1]) > 15) & \\\n",
    "           (image[:, :, 2] > image[:, :, 1]) & (image[:, :, 2] > image[:, :, 0])\n",
    "    return mask\n",
    "\n",
    "def detectSkinHSVspace(image):\n",
    "    hsv = cv.cvtColor(image, cv.COLOR_BGR2HSV)\n",
    "    mask = ((hsv[:, :, 0] <= 50) | (hsv[:, :, 0] >= 340)) & \\\n",
    "           (hsv[:, :, 1] >= 0.23 * 255) & (hsv[:, :, 2] >= 0.35 * 255)\n",
    "    return mask\n",
    "\n",
    "def detectSkinYCBRspace(image):\n",
    "    ycbcr = cv.cvtColor(image, cv.COLOR_BGR2YCrCb)\n",
    "    mask = (ycbcr[:, :, 0] > 80) & (85 < ycbcr[:, :, 1]) & (ycbcr[:, :, 1] < 135) & \\\n",
    "           (135 < ycbcr[:, :, 2]) & (ycbcr[:, :, 2] < 180)\n",
    "    return mask\n",
    "\n",
    "def process_images(folder_path):\n",
    "    results = {}\n",
    "    for filename in os.listdir(folder_path):\n",
    "        if filename.endswith(('.jpg', '.jpeg', '.png')):\n",
    "            image_path = os.path.join(folder_path, filename)\n",
    "            image = cv.imread(image_path)\n",
    "            \n",
    "            if image is not None:\n",
    "                mask_rgb = detectSkinRGBspace(image)\n",
    "                mask_hsv = detectSkinHSVspace(image)\n",
    "                mask_ycbcr = detectSkinYCBRspace(image)\n",
    "\n",
    "                detected_rgb = np.any(mask_rgb)\n",
    "                detected_hsv = np.any(mask_hsv)\n",
    "                detected_ycbcr = np.any(mask_ycbcr)\n",
    "                \n",
    "                results[filename] = {\n",
    "                    'RGB': 'Detected' if detected_rgb else 'Not detected',\n",
    "                    'HSV': 'Detected' if detected_hsv else 'Not detected',\n",
    "                    'YCbCr': 'Detected' if detected_ycbcr else 'Not detected'\n",
    "                }\n",
    "\n",
    "    for img, res in results.items():\n",
    "        print(f\"Image: {img}\")\n",
    "        for space, status in res.items():\n",
    "            print(f\"  {space}: {status}\")\n",
    "        print()\n",
    "\n",
    "process_images('Pratheepan_Dataset\\FacePhoto')\n"
   ]
  }
 ],
 "metadata": {
  "kernelspec": {
   "display_name": "new",
   "language": "python",
   "name": "env"
  },
  "language_info": {
   "codemirror_mode": {
    "name": "ipython",
    "version": 3
   },
   "file_extension": ".py",
   "mimetype": "text/x-python",
   "name": "python",
   "nbconvert_exporter": "python",
   "pygments_lexer": "ipython3",
   "version": "3.12.3"
  }
 },
 "nbformat": 4,
 "nbformat_minor": 4
}
